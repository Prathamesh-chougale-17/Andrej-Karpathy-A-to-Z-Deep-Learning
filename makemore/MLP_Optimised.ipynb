{
 "cells": [
  {
   "cell_type": "code",
   "execution_count": 37,
   "id": "5a1e596d",
   "metadata": {},
   "outputs": [],
   "source": [
    "import torch\n",
    "import torch.nn.functional as F\n",
    "import matplotlib.pyplot as plt # for making figures\n",
    "%matplotlib inline"
   ]
  },
  {
   "cell_type": "code",
   "execution_count": 38,
   "id": "c42223d7",
   "metadata": {},
   "outputs": [],
   "source": [
    "names = open('names.txt').read().splitlines()\n",
    "chars = sorted(list(set(''.join(names))))\n",
    "stoi = {s: i + 1 for i, s in enumerate(chars)} # string to index\n",
    "stoi['.'] = 0 # padding\n",
    "itos = {i: s for s, i in stoi.items()} # index to string"
   ]
  },
  {
   "cell_type": "code",
   "execution_count": 39,
   "id": "e04103c7",
   "metadata": {},
   "outputs": [],
   "source": [
    "# Block size and batch size\n",
    "block_size = 3 # how many characters to predict\n",
    "# Training and validation split\n",
    "X = []\n",
    "Y = []\n",
    "for name in names:\n",
    "    context = [0] * block_size # padding\n",
    "    for ch in name + '.':\n",
    "        ix = stoi[ch]\n",
    "        X.append(context)\n",
    "        Y.append(ix)\n",
    "        context = context[1:] + [ix] # shift the context\n",
    "# Convert to tensors\n",
    "X = torch.tensor(X)\n",
    "Y = torch.tensor(Y)"
   ]
  },
  {
   "cell_type": "code",
   "execution_count": 40,
   "id": "78014c54",
   "metadata": {},
   "outputs": [
    {
     "data": {
      "text/plain": [
       "(torch.Size([228146, 3]), torch.Size([228146]))"
      ]
     },
     "execution_count": 40,
     "metadata": {},
     "output_type": "execute_result"
    }
   ],
   "source": [
    "X.shape, Y.shape # (number of examples, block size), (number of examples,)"
   ]
  },
  {
   "cell_type": "code",
   "execution_count": 41,
   "id": "3b47051d",
   "metadata": {},
   "outputs": [],
   "source": [
    "g = torch.Generator().manual_seed(2147483647) # for reproducibility\n",
    "C = torch.randn((27, 2),generator=g) # 27 characters, 2-dimensional embedding\n",
    "# Initialize weights\n",
    "W1 = torch.randn((2 * block_size, 100), generator=g) # 100 hidden units\n",
    "W2 = torch.randn((100, 27), generator=g) # 27 characters\n",
    "# Biases\n",
    "b1 = torch.randn(100, generator=g) # 100 hidden units\n",
    "b2 = torch.randn(27, generator=g) # 27 characters\n",
    "# Parameters\n",
    "parameters = [C, W1, W2, b1, b2]\n",
    "# Learning rate\n",
    "lr = 0.1\n",
    "# Number of iterations\n",
    "n = 1000\n",
    "# Loss function\n",
    "losses = []\n",
    "# Training loop"
   ]
  },
  {
   "cell_type": "code",
   "execution_count": 42,
   "id": "f885286c",
   "metadata": {},
   "outputs": [
    {
     "data": {
      "text/plain": [
       "3481"
      ]
     },
     "execution_count": 42,
     "metadata": {},
     "output_type": "execute_result"
    }
   ],
   "source": [
    "sum(p.nelement() for p in parameters) # number of parameters"
   ]
  },
  {
   "cell_type": "code",
   "execution_count": 43,
   "id": "ef62ee33",
   "metadata": {},
   "outputs": [],
   "source": [
    "for p in parameters:\n",
    "    p.requires_grad = True # enable gradient tracking"
   ]
  },
  {
   "cell_type": "code",
   "execution_count": 44,
   "id": "59eec924",
   "metadata": {},
   "outputs": [
    {
     "data": {
      "text/plain": [
       "torch.Size([228146])"
      ]
     },
     "execution_count": 44,
     "metadata": {},
     "output_type": "execute_result"
    }
   ],
   "source": [
    "Y.shape"
   ]
  },
  {
   "cell_type": "code",
   "execution_count": 45,
   "id": "84af59ee",
   "metadata": {},
   "outputs": [
    {
     "name": "stdout",
     "output_type": "stream",
     "text": [
      "Iteration 0, loss: 18.29985237121582\n",
      "Final loss: 2.663778781890869\n"
     ]
    }
   ],
   "source": [
    "# Training loop\n",
    "for i in range(n):\n",
    "    # Forward pass\n",
    "    emb = C[X] # (number of examples, block size, embedding dimension)\n",
    "    embcat = emb.view(-1, 2 * block_size) # (number of examples, 2 * block size)\n",
    "    h = torch.tanh(embcat @ W1 + b1) # (number of examples, 100)\n",
    "    logits = h @ W2 + b2 # (number of examples, 27)\n",
    "    loss = F.cross_entropy(logits, Y) # (number of examples,)\n",
    "    # print(loss.item())\n",
    "    losses.append(loss.item())\n",
    "\n",
    "    # Backward pass\n",
    "    for p in parameters:\n",
    "        p.grad = None # zero the gradients\n",
    "    loss.backward() # compute gradients\n",
    "\n",
    "    # Update weights\n",
    "    for p in parameters:\n",
    "        p.data -= lr * p.grad\n",
    "    if i % 100 == 0:\n",
    "        print(f\"Iteration {i}, loss: {loss.item()}\")\n",
    "print(f\"Final loss: {loss.item()}\")"
   ]
  },
  {
   "cell_type": "code",
   "execution_count": 48,
   "id": "969885bb",
   "metadata": {},
   "outputs": [
    {
     "data": {
      "image/png": "[encoded data removed]",
      "text/plain": [
       "<Figure size 640x480 with 1 Axes>"
      ]
     },
     "metadata": {},
     "output_type": "display_data"
    }
   ],
   "source": [
    "# Plot loss\n",
    "plt.plot(losses)\n",
    "plt.ylim(0, 20) # limit y-axis\n",
    "plt.xlabel('Iteration')\n",
    "plt.ylabel('Loss')\n",
    "plt.title('Training Loss')\n",
    "plt.show()"
   ]
  }
 ],
 "metadata": {
  "kernelspec": {
   "display_name": ".venv",
   "language": "python",
   "name": "python3"
  },
  "language_info": {
   "codemirror_mode": {
    "name": "ipython",
    "version": 3
   },
   "file_extension": ".py",
   "mimetype": "text/x-python",
   "name": "python",
   "nbconvert_exporter": "python",
   "pygments_lexer": "ipython3",
   "version": "3.13.2"
  }
 },
 "nbformat": 4,
 "nbformat_minor": 5
}
