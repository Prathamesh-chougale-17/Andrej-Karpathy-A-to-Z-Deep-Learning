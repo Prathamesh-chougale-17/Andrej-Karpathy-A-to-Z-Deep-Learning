{
 "cells": [
  {
   "cell_type": "code",
   "execution_count": 1,
   "metadata": {},
   "outputs": [],
   "source": [
    "import math\n",
    "import numpy as np\n",
    "import matplotlib.pyplot as plt\n",
    "%matplotlib inline"
   ]
  },
  {
   "cell_type": "code",
   "execution_count": 2,
   "metadata": {},
   "outputs": [],
   "source": [
    "def f(x):\n",
    "    return x**2 +3*x + 2"
   ]
  },
  {
   "cell_type": "code",
   "execution_count": 3,
   "metadata": {},
   "outputs": [
    {
     "data": {
      "text/plain": [
       "12"
      ]
     },
     "execution_count": 3,
     "metadata": {},
     "output_type": "execute_result"
    }
   ],
   "source": [
    "f(2)"
   ]
  },
  {
   "cell_type": "code",
   "execution_count": 4,
   "metadata": {},
   "outputs": [
    {
     "data": {
      "text/plain": [
       "array([ 72.    ,  67.8125,  63.75  ,  59.8125,  56.    ,  52.3125,\n",
       "        48.75  ,  45.3125,  42.    ,  38.8125,  35.75  ,  32.8125,\n",
       "        30.    ,  27.3125,  24.75  ,  22.3125,  20.    ,  17.8125,\n",
       "        15.75  ,  13.8125,  12.    ,  10.3125,   8.75  ,   7.3125,\n",
       "         6.    ,   4.8125,   3.75  ,   2.8125,   2.    ,   1.3125,\n",
       "         0.75  ,   0.3125,   0.    ,  -0.1875,  -0.25  ,  -0.1875,\n",
       "         0.    ,   0.3125,   0.75  ,   1.3125,   2.    ,   2.8125,\n",
       "         3.75  ,   4.8125,   6.    ,   7.3125,   8.75  ,  10.3125,\n",
       "        12.    ,  13.8125,  15.75  ,  17.8125,  20.    ,  22.3125,\n",
       "        24.75  ,  27.3125,  30.    ,  32.8125,  35.75  ,  38.8125,\n",
       "        42.    ,  45.3125,  48.75  ,  52.3125,  56.    ,  59.8125,\n",
       "        63.75  ,  67.8125,  72.    ,  76.3125,  80.75  ,  85.3125,\n",
       "        90.    ,  94.8125,  99.75  , 104.8125, 110.    , 115.3125,\n",
       "       120.75  , 126.3125])"
      ]
     },
     "execution_count": 4,
     "metadata": {},
     "output_type": "execute_result"
    }
   ],
   "source": [
    "xs = np.arange(-10, 10, 0.25)\n",
    "ys = f(xs)\n",
    "ys"
   ]
  },
  {
   "cell_type": "code",
   "execution_count": 5,
   "metadata": {},
   "outputs": [
    {
     "data": {
      "text/plain": [
       "[<matplotlib.lines.Line2D at 0x22c038d46b0>]"
      ]
     },
     "execution_count": 5,
     "metadata": {},
     "output_type": "execute_result"
    },
    {
     "data": {
      "image/png": "[encoded data removed]",
      "text/plain": [
       "<Figure size 640x480 with 1 Axes>"
      ]
     },
     "metadata": {},
     "output_type": "display_data"
    }
   ],
   "source": [
    "plt.plot(xs, ys)"
   ]
  },
  {
   "cell_type": "markdown",
   "metadata": {},
   "source": [
    "## Derivates"
   ]
  },
  {
   "cell_type": "code",
   "execution_count": 6,
   "metadata": {},
   "outputs": [],
   "source": [
    "h = 0.0001\n",
    "def derivative(x):\n",
    "    return (f(x+h)-f(x))/h"
   ]
  },
  {
   "cell_type": "code",
   "execution_count": 7,
   "metadata": {},
   "outputs": [
    {
     "data": {
      "text/plain": [
       "7.000100000027487"
      ]
     },
     "execution_count": 7,
     "metadata": {},
     "output_type": "execute_result"
    }
   ],
   "source": [
    "derivative(2) # 2x + 3 = 2*2 + 3 = 7"
   ]
  },
  {
   "cell_type": "code",
   "execution_count": 8,
   "metadata": {},
   "outputs": [
    {
     "data": {
      "text/plain": [
       "9.000100000022826"
      ]
     },
     "execution_count": 8,
     "metadata": {},
     "output_type": "execute_result"
    }
   ],
   "source": [
    "derivative(3) # 2x + 3 = 2*3 + 3 = 9"
   ]
  },
  {
   "cell_type": "markdown",
   "metadata": {},
   "source": [
    "## Complex parameter derivation (partial derivatives)"
   ]
  },
  {
   "cell_type": "code",
   "execution_count": 9,
   "metadata": {},
   "outputs": [],
   "source": [
    "def pf(x,y,z):\n",
    "    return x*y+z"
   ]
  },
  {
   "cell_type": "code",
   "execution_count": 10,
   "metadata": {},
   "outputs": [],
   "source": [
    "def der(x,y,z,dx,dy,dz):\n",
    "    return (pf(x+dx,y+dy,z+dz)-pf(x,y,z))/(dx+dy+dz)"
   ]
  },
  {
   "cell_type": "code",
   "execution_count": 11,
   "metadata": {},
   "outputs": [
    {
     "data": {
      "text/plain": [
       "3.000000000010772"
      ]
     },
     "execution_count": 11,
     "metadata": {},
     "output_type": "execute_result"
    }
   ],
   "source": [
    "der(2,3,4,h,0,0) # 3 (d(d1)/dx) = (y) = 3"
   ]
  },
  {
   "cell_type": "code",
   "execution_count": 12,
   "metadata": {},
   "outputs": [
    {
     "data": {
      "text/plain": [
       "1.9999999999953388"
      ]
     },
     "execution_count": 12,
     "metadata": {},
     "output_type": "execute_result"
    }
   ],
   "source": [
    "der(2,3,4,0,h,0) # 2 (d(d1)/dy=x=2)"
   ]
  },
  {
   "cell_type": "code",
   "execution_count": 13,
   "metadata": {},
   "outputs": [
    {
     "data": {
      "text/plain": [
       "0.9999999999976694"
      ]
     },
     "execution_count": 13,
     "metadata": {},
     "output_type": "execute_result"
    }
   ],
   "source": [
    "der(2,3,4,0,0,h) # 1 (d(d1)/dz=1)"
   ]
  },
  {
   "cell_type": "markdown",
   "metadata": {},
   "source": [
    "## Start of Understanding classes and objects"
   ]
  },
  {
   "cell_type": "code",
   "execution_count": 35,
   "metadata": {},
   "outputs": [],
   "source": [
    "class Value:\n",
    "\n",
    "    def __init__(self,data,_children=(),_op=(),label=''): # _children is a tuple\n",
    "        self.data = data\n",
    "        self._prev = set(_children)\n",
    "        self._op = _op\n",
    "        self.label = label\n",
    "    \n",
    "    def __repr__(self):\n",
    "        return f\"Value (data={self.data})\"\n",
    "    \n",
    "    def __add__(self,other):\n",
    "        return Value(self.data + other.data, (self,other), \"+\")\n",
    "    \n",
    "    def __mul__(self,other):\n",
    "        return Value(self.data * other.data, (self,other), \"*\")\n",
    "    "
   ]
  },
  {
   "cell_type": "code",
   "execution_count": 15,
   "metadata": {},
   "outputs": [
    {
     "data": {
      "text/plain": [
       "Value (data=3)"
      ]
     },
     "execution_count": 15,
     "metadata": {},
     "output_type": "execute_result"
    }
   ],
   "source": [
    "Value(3)  # Python internally calls obj.__repr__() where obj = Value(3)"
   ]
  },
  {
   "cell_type": "code",
   "execution_count": 16,
   "metadata": {},
   "outputs": [
    {
     "data": {
      "text/plain": [
       "Value (data=7)"
      ]
     },
     "execution_count": 16,
     "metadata": {},
     "output_type": "execute_result"
    }
   ],
   "source": [
    "Value(3) + Value(4) # Python internally calls obj.__add__(other) where obj = Value(3) and other = Value(4)"
   ]
  },
  {
   "cell_type": "code",
   "execution_count": 40,
   "metadata": {},
   "outputs": [
    {
     "data": {
      "text/plain": [
       "Value (data=12)"
      ]
     },
     "execution_count": 40,
     "metadata": {},
     "output_type": "execute_result"
    }
   ],
   "source": [
    "c = Value(3,label='a') * Value(4,label='b') # Python internally calls obj.__mul__(other) where obj = Value(3) and other = Value(4)\n",
    "c.label = 'c'\n",
    "c"
   ]
  },
  {
   "cell_type": "code",
   "execution_count": 43,
   "metadata": {},
   "outputs": [],
   "source": [
    "e = c + Value(5,label='d') # Python internally calls obj.__mul__(other) where obj = Value(3) and other = Value(4)\n",
    "e.label = 'e'"
   ]
  },
  {
   "cell_type": "code",
   "execution_count": 44,
   "metadata": {},
   "outputs": [
    {
     "data": {
      "text/plain": [
       "{Value (data=12), Value (data=5)}"
      ]
     },
     "execution_count": 44,
     "metadata": {},
     "output_type": "execute_result"
    }
   ],
   "source": [
    "e._prev"
   ]
  },
  {
   "cell_type": "code",
   "execution_count": 45,
   "metadata": {},
   "outputs": [
    {
     "data": {
      "text/plain": [
       "'+'"
      ]
     },
     "execution_count": 45,
     "metadata": {},
     "output_type": "execute_result"
    }
   ],
   "source": [
    "e._op"
   ]
  },
  {
   "cell_type": "code",
   "execution_count": 46,
   "metadata": {},
   "outputs": [
    {
     "data": {
      "text/plain": [
       "'e'"
      ]
     },
     "execution_count": 46,
     "metadata": {},
     "output_type": "execute_result"
    }
   ],
   "source": [
    "e.label"
   ]
  },
  {
   "cell_type": "code",
   "execution_count": 52,
   "metadata": {},
   "outputs": [],
   "source": [
    "L = e * Value(-6,label='f') # Python internally calls obj.__mul__(other) where obj = Value(3) and other = Value(4)\n",
    "L.label = 'L'"
   ]
  },
  {
   "cell_type": "markdown",
   "metadata": {},
   "source": [
    "## Showcase all operation in Graphs"
   ]
  },
  {
   "cell_type": "code",
   "execution_count": 37,
   "metadata": {},
   "outputs": [],
   "source": [
    "from graphviz import Digraph\n",
    "\n",
    "def trace(root):\n",
    "  # builds a set of all nodes and edges in a graph\n",
    "  nodes, edges = set(), set()\n",
    "  def build(v):\n",
    "    if v not in nodes:\n",
    "      nodes.add(v)\n",
    "      for child in v._prev:\n",
    "        edges.add((child, v))\n",
    "        build(child)\n",
    "  build(root)\n",
    "  return nodes, edges\n",
    "\n",
    "def draw_dot(root):\n",
    "  dot = Digraph(format='svg', graph_attr={'rankdir': 'LR'}) # LR = left to right\n",
    "  \n",
    "  nodes, edges = trace(root)\n",
    "  for n in nodes:\n",
    "    uid = str(id(n))\n",
    "    # for any value in the graph, create a rectangular ('record') node for it\n",
    "    dot.node(name = uid, label = \"{ %s | data %.4f  }\" % ( n.label,n.data), shape='record')\n",
    "    if n._op:\n",
    "      # if this value is a result of some operation, create an op node for it\n",
    "      dot.node(name = uid + n._op, label = n._op)\n",
    "      # and connect this node to it\n",
    "      dot.edge(uid + n._op, uid)\n",
    "\n",
    "  for n1, n2 in edges:\n",
    "    # connect n1 to the op node of n2\n",
    "    dot.edge(str(id(n1)), str(id(n2)) + n2._op)\n",
    "\n",
    "  return dot"
   ]
  },
  {
   "cell_type": "code",
   "execution_count": null,
   "metadata": {},
   "outputs": [
    {
     "data": {
      "image/svg+xml": [
       "<?xml version=\"1.0\" encoding=\"UTF-8\" standalone=\"no\"?>\n",
       "<!DOCTYPE svg PUBLIC \"-//W3C//DTD SVG 1.1//EN\"\n",
       " \"http://www.w3.org/Graphics/SVG/1.1/DTD/svg11.dtd\">\n",
       "<!-- Generated by graphviz version 12.2.1 (20241206.2353)\n",
       " -->\n",
       "<!-- Pages: 1 -->\n",
       "<svg width=\"580pt\" height=\"127pt\"\n",
       " viewBox=\"0.00 0.00 579.50 127.00\" xmlns=\"http://www.w3.org/2000/svg\" xmlns:xlink=\"http://www.w3.org/1999/xlink\">\n",
       "<g id=\"graph0\" class=\"graph\" transform=\"scale(1 1) rotate(0) translate(4 123)\">\n",
       "<polygon fill=\"white\" stroke=\"none\" points=\"-4,4 -4,-123 575.5,-123 575.5,4 -4,4\"/>\n",
       "<!-- 2388098021376 -->\n",
       "<g id=\"node1\" class=\"node\">\n",
       "<title>2388098021376</title>\n",
       "<polygon fill=\"none\" stroke=\"black\" points=\"231.5,-82.5 231.5,-118.5 334,-118.5 334,-82.5 231.5,-82.5\"/>\n",
       "<text text-anchor=\"middle\" x=\"242.88\" y=\"-95.7\" font-family=\"Times New Roman,serif\" font-size=\"14.00\">d</text>\n",
       "<polyline fill=\"none\" stroke=\"black\" points=\"254.25,-83 254.25,-118.5\"/>\n",
       "<text text-anchor=\"middle\" x=\"294.12\" y=\"-95.7\" font-family=\"Times New Roman,serif\" font-size=\"14.00\">data 5.0000</text>\n",
       "</g>\n",
       "<!-- 2388098021520+ -->\n",
       "<g id=\"node4\" class=\"node\">\n",
       "<title>2388098021520+</title>\n",
       "<ellipse fill=\"none\" stroke=\"black\" cx=\"400\" cy=\"-72.5\" rx=\"27\" ry=\"18\"/>\n",
       "<text text-anchor=\"middle\" x=\"400\" y=\"-67.45\" font-family=\"Times New Roman,serif\" font-size=\"14.00\">+</text>\n",
       "</g>\n",
       "<!-- 2388098021376&#45;&gt;2388098021520+ -->\n",
       "<g id=\"edge6\" class=\"edge\">\n",
       "<title>2388098021376&#45;&gt;2388098021520+</title>\n",
       "<path fill=\"none\" stroke=\"black\" d=\"M334.3,-88.22C344,-85.86 353.96,-83.44 363.08,-81.23\"/>\n",
       "<polygon fill=\"black\" stroke=\"black\" points=\"363.73,-84.67 372.62,-78.91 362.08,-77.87 363.73,-84.67\"/>\n",
       "</g>\n",
       "<!-- 2388098009136 -->\n",
       "<g id=\"node2\" class=\"node\">\n",
       "<title>2388098009136</title>\n",
       "<polygon fill=\"none\" stroke=\"black\" points=\"0.38,-55.5 0.38,-91.5 102.12,-91.5 102.12,-55.5 0.38,-55.5\"/>\n",
       "<text text-anchor=\"middle\" x=\"11.38\" y=\"-68.7\" font-family=\"Times New Roman,serif\" font-size=\"14.00\">a</text>\n",
       "<polyline fill=\"none\" stroke=\"black\" points=\"22.38,-56 22.38,-91.5\"/>\n",
       "<text text-anchor=\"middle\" x=\"62.25\" y=\"-68.7\" font-family=\"Times New Roman,serif\" font-size=\"14.00\">data 3.0000</text>\n",
       "</g>\n",
       "<!-- 2388062523792* -->\n",
       "<g id=\"node6\" class=\"node\">\n",
       "<title>2388062523792*</title>\n",
       "<ellipse fill=\"none\" stroke=\"black\" cx=\"165.5\" cy=\"-45.5\" rx=\"27\" ry=\"18\"/>\n",
       "<text text-anchor=\"middle\" x=\"165.5\" y=\"-40.45\" font-family=\"Times New Roman,serif\" font-size=\"14.00\">*</text>\n",
       "</g>\n",
       "<!-- 2388098009136&#45;&gt;2388062523792* -->\n",
       "<g id=\"edge3\" class=\"edge\">\n",
       "<title>2388098009136&#45;&gt;2388062523792*</title>\n",
       "<path fill=\"none\" stroke=\"black\" d=\"M102.47,-60.97C111.37,-58.75 120.48,-56.48 128.88,-54.38\"/>\n",
       "<polygon fill=\"black\" stroke=\"black\" points=\"129.49,-57.84 138.34,-52.02 127.79,-51.05 129.49,-57.84\"/>\n",
       "</g>\n",
       "<!-- 2388098021520 -->\n",
       "<g id=\"node3\" class=\"node\">\n",
       "<title>2388098021520</title>\n",
       "<polygon fill=\"none\" stroke=\"black\" points=\"463,-54.5 463,-90.5 571.5,-90.5 571.5,-54.5 463,-54.5\"/>\n",
       "<text text-anchor=\"middle\" x=\"474\" y=\"-67.7\" font-family=\"Times New Roman,serif\" font-size=\"14.00\">e</text>\n",
       "<polyline fill=\"none\" stroke=\"black\" points=\"485,-55 485,-90.5\"/>\n",
       "<text text-anchor=\"middle\" x=\"528.25\" y=\"-67.7\" font-family=\"Times New Roman,serif\" font-size=\"14.00\">data 17.0000</text>\n",
       "</g>\n",
       "<!-- 2388098021520+&#45;&gt;2388098021520 -->\n",
       "<g id=\"edge1\" class=\"edge\">\n",
       "<title>2388098021520+&#45;&gt;2388098021520</title>\n",
       "<path fill=\"none\" stroke=\"black\" d=\"M427.44,-72.5C434.66,-72.5 442.81,-72.5 451.18,-72.5\"/>\n",
       "<polygon fill=\"black\" stroke=\"black\" points=\"451.14,-76 461.14,-72.5 451.14,-69 451.14,-76\"/>\n",
       "</g>\n",
       "<!-- 2388062523792 -->\n",
       "<g id=\"node5\" class=\"node\">\n",
       "<title>2388062523792</title>\n",
       "<polygon fill=\"none\" stroke=\"black\" points=\"228.5,-27.5 228.5,-63.5 337,-63.5 337,-27.5 228.5,-27.5\"/>\n",
       "<text text-anchor=\"middle\" x=\"239.5\" y=\"-40.7\" font-family=\"Times New Roman,serif\" font-size=\"14.00\">c</text>\n",
       "<polyline fill=\"none\" stroke=\"black\" points=\"250.5,-28 250.5,-63.5\"/>\n",
       "<text text-anchor=\"middle\" x=\"293.75\" y=\"-40.7\" font-family=\"Times New Roman,serif\" font-size=\"14.00\">data 12.0000</text>\n",
       "</g>\n",
       "<!-- 2388062523792&#45;&gt;2388098021520+ -->\n",
       "<g id=\"edge4\" class=\"edge\">\n",
       "<title>2388062523792&#45;&gt;2388098021520+</title>\n",
       "<path fill=\"none\" stroke=\"black\" d=\"M337.33,-58.05C346.04,-60.09 354.87,-62.16 363.03,-64.07\"/>\n",
       "<polygon fill=\"black\" stroke=\"black\" points=\"362.02,-67.43 372.55,-66.3 363.61,-60.61 362.02,-67.43\"/>\n",
       "</g>\n",
       "<!-- 2388062523792*&#45;&gt;2388062523792 -->\n",
       "<g id=\"edge2\" class=\"edge\">\n",
       "<title>2388062523792*&#45;&gt;2388062523792</title>\n",
       "<path fill=\"none\" stroke=\"black\" d=\"M192.94,-45.5C200.16,-45.5 208.31,-45.5 216.68,-45.5\"/>\n",
       "<polygon fill=\"black\" stroke=\"black\" points=\"216.64,-49 226.64,-45.5 216.64,-42 216.64,-49\"/>\n",
       "</g>\n",
       "<!-- 2388062527920 -->\n",
       "<g id=\"node7\" class=\"node\">\n",
       "<title>2388062527920</title>\n",
       "<polygon fill=\"none\" stroke=\"black\" points=\"0,-0.5 0,-36.5 102.5,-36.5 102.5,-0.5 0,-0.5\"/>\n",
       "<text text-anchor=\"middle\" x=\"11.38\" y=\"-13.7\" font-family=\"Times New Roman,serif\" font-size=\"14.00\">b</text>\n",
       "<polyline fill=\"none\" stroke=\"black\" points=\"22.75,-1 22.75,-36.5\"/>\n",
       "<text text-anchor=\"middle\" x=\"62.62\" y=\"-13.7\" font-family=\"Times New Roman,serif\" font-size=\"14.00\">data 4.0000</text>\n",
       "</g>\n",
       "<!-- 2388062527920&#45;&gt;2388062523792* -->\n",
       "<g id=\"edge5\" class=\"edge\">\n",
       "<title>2388062527920&#45;&gt;2388062523792*</title>\n",
       "<path fill=\"none\" stroke=\"black\" d=\"M102.79,-30.66C111.49,-32.75 120.38,-34.89 128.59,-36.86\"/>\n",
       "<polygon fill=\"black\" stroke=\"black\" points=\"127.66,-40.24 138.2,-39.17 129.3,-33.43 127.66,-40.24\"/>\n",
       "</g>\n",
       "</g>\n",
       "</svg>\n"
      ],
      "text/plain": [
       "<graphviz.graphs.Digraph at 0x22c0390c770>"
      ]
     },
     "execution_count": 47,
     "metadata": {},
     "output_type": "execute_result"
    }
   ],
   "source": [
    "draw_dot(e)"
   ]
  },
  {
   "cell_type": "code",
   "execution_count": 53,
   "metadata": {},
   "outputs": [
    {
     "data": {
      "image/svg+xml": [
       "<?xml version=\"1.0\" encoding=\"UTF-8\" standalone=\"no\"?>\n",
       "<!DOCTYPE svg PUBLIC \"-//W3C//DTD SVG 1.1//EN\"\n",
       " \"http://www.w3.org/Graphics/SVG/1.1/DTD/svg11.dtd\">\n",
       "<!-- Generated by graphviz version 12.2.1 (20241206.2353)\n",
       " -->\n",
       "<!-- Pages: 1 -->\n",
       "<svg width=\"828pt\" height=\"128pt\"\n",
       " viewBox=\"0.00 0.00 827.50 128.00\" xmlns=\"http://www.w3.org/2000/svg\" xmlns:xlink=\"http://www.w3.org/1999/xlink\">\n",
       "<g id=\"graph0\" class=\"graph\" transform=\"scale(1 1) rotate(0) translate(4 124)\">\n",
       "<polygon fill=\"white\" stroke=\"none\" points=\"-4,4 -4,-124 823.5,-124 823.5,4 -4,4\"/>\n",
       "<!-- 2388098021376 -->\n",
       "<g id=\"node1\" class=\"node\">\n",
       "<title>2388098021376</title>\n",
       "<polygon fill=\"none\" stroke=\"black\" points=\"231.5,-83.5 231.5,-119.5 334,-119.5 334,-83.5 231.5,-83.5\"/>\n",
       "<text text-anchor=\"middle\" x=\"242.88\" y=\"-96.7\" font-family=\"Times New Roman,serif\" font-size=\"14.00\">d</text>\n",
       "<polyline fill=\"none\" stroke=\"black\" points=\"254.25,-84 254.25,-119.5\"/>\n",
       "<text text-anchor=\"middle\" x=\"294.12\" y=\"-96.7\" font-family=\"Times New Roman,serif\" font-size=\"14.00\">data 5.0000</text>\n",
       "</g>\n",
       "<!-- 2388098021520+ -->\n",
       "<g id=\"node4\" class=\"node\">\n",
       "<title>2388098021520+</title>\n",
       "<ellipse fill=\"none\" stroke=\"black\" cx=\"400\" cy=\"-73.5\" rx=\"27\" ry=\"18\"/>\n",
       "<text text-anchor=\"middle\" x=\"400\" y=\"-68.45\" font-family=\"Times New Roman,serif\" font-size=\"14.00\">+</text>\n",
       "</g>\n",
       "<!-- 2388098021376&#45;&gt;2388098021520+ -->\n",
       "<g id=\"edge6\" class=\"edge\">\n",
       "<title>2388098021376&#45;&gt;2388098021520+</title>\n",
       "<path fill=\"none\" stroke=\"black\" d=\"M334.3,-89.22C344,-86.86 353.96,-84.44 363.08,-82.23\"/>\n",
       "<polygon fill=\"black\" stroke=\"black\" points=\"363.73,-85.67 372.62,-79.91 362.08,-78.87 363.73,-85.67\"/>\n",
       "</g>\n",
       "<!-- 2388098009136 -->\n",
       "<g id=\"node2\" class=\"node\">\n",
       "<title>2388098009136</title>\n",
       "<polygon fill=\"none\" stroke=\"black\" points=\"0.38,-56.5 0.38,-92.5 102.12,-92.5 102.12,-56.5 0.38,-56.5\"/>\n",
       "<text text-anchor=\"middle\" x=\"11.38\" y=\"-69.7\" font-family=\"Times New Roman,serif\" font-size=\"14.00\">a</text>\n",
       "<polyline fill=\"none\" stroke=\"black\" points=\"22.38,-57 22.38,-92.5\"/>\n",
       "<text text-anchor=\"middle\" x=\"62.25\" y=\"-69.7\" font-family=\"Times New Roman,serif\" font-size=\"14.00\">data 3.0000</text>\n",
       "</g>\n",
       "<!-- 2388062523792* -->\n",
       "<g id=\"node7\" class=\"node\">\n",
       "<title>2388062523792*</title>\n",
       "<ellipse fill=\"none\" stroke=\"black\" cx=\"165.5\" cy=\"-46.5\" rx=\"27\" ry=\"18\"/>\n",
       "<text text-anchor=\"middle\" x=\"165.5\" y=\"-41.45\" font-family=\"Times New Roman,serif\" font-size=\"14.00\">*</text>\n",
       "</g>\n",
       "<!-- 2388098009136&#45;&gt;2388062523792* -->\n",
       "<g id=\"edge4\" class=\"edge\">\n",
       "<title>2388098009136&#45;&gt;2388062523792*</title>\n",
       "<path fill=\"none\" stroke=\"black\" d=\"M102.47,-61.97C111.37,-59.75 120.48,-57.48 128.88,-55.38\"/>\n",
       "<polygon fill=\"black\" stroke=\"black\" points=\"129.49,-58.84 138.34,-53.02 127.79,-52.05 129.49,-58.84\"/>\n",
       "</g>\n",
       "<!-- 2388098021520 -->\n",
       "<g id=\"node3\" class=\"node\">\n",
       "<title>2388098021520</title>\n",
       "<polygon fill=\"none\" stroke=\"black\" points=\"463,-55.5 463,-91.5 571.5,-91.5 571.5,-55.5 463,-55.5\"/>\n",
       "<text text-anchor=\"middle\" x=\"474\" y=\"-68.7\" font-family=\"Times New Roman,serif\" font-size=\"14.00\">e</text>\n",
       "<polyline fill=\"none\" stroke=\"black\" points=\"485,-56 485,-91.5\"/>\n",
       "<text text-anchor=\"middle\" x=\"528.25\" y=\"-68.7\" font-family=\"Times New Roman,serif\" font-size=\"14.00\">data 17.0000</text>\n",
       "</g>\n",
       "<!-- 2388098013648* -->\n",
       "<g id=\"node10\" class=\"node\">\n",
       "<title>2388098013648*</title>\n",
       "<ellipse fill=\"none\" stroke=\"black\" cx=\"634.5\" cy=\"-45.5\" rx=\"27\" ry=\"18\"/>\n",
       "<text text-anchor=\"middle\" x=\"634.5\" y=\"-40.45\" font-family=\"Times New Roman,serif\" font-size=\"14.00\">*</text>\n",
       "</g>\n",
       "<!-- 2388098021520&#45;&gt;2388098013648* -->\n",
       "<g id=\"edge9\" class=\"edge\">\n",
       "<title>2388098021520&#45;&gt;2388098013648*</title>\n",
       "<path fill=\"none\" stroke=\"black\" d=\"M571.83,-60.48C580.54,-58.37 589.37,-56.22 597.53,-54.24\"/>\n",
       "<polygon fill=\"black\" stroke=\"black\" points=\"598.16,-57.69 607.05,-51.93 596.51,-50.89 598.16,-57.69\"/>\n",
       "</g>\n",
       "<!-- 2388098021520+&#45;&gt;2388098021520 -->\n",
       "<g id=\"edge1\" class=\"edge\">\n",
       "<title>2388098021520+&#45;&gt;2388098021520</title>\n",
       "<path fill=\"none\" stroke=\"black\" d=\"M427.44,-73.5C434.66,-73.5 442.81,-73.5 451.18,-73.5\"/>\n",
       "<polygon fill=\"black\" stroke=\"black\" points=\"451.14,-77 461.14,-73.5 451.14,-70 451.14,-77\"/>\n",
       "</g>\n",
       "<!-- 2388098008752 -->\n",
       "<g id=\"node5\" class=\"node\">\n",
       "<title>2388098008752</title>\n",
       "<polygon fill=\"none\" stroke=\"black\" points=\"464.88,-0.5 464.88,-36.5 569.62,-36.5 569.62,-0.5 464.88,-0.5\"/>\n",
       "<text text-anchor=\"middle\" x=\"475.12\" y=\"-13.7\" font-family=\"Times New Roman,serif\" font-size=\"14.00\">f</text>\n",
       "<polyline fill=\"none\" stroke=\"black\" points=\"485.38,-1 485.38,-36.5\"/>\n",
       "<text text-anchor=\"middle\" x=\"527.5\" y=\"-13.7\" font-family=\"Times New Roman,serif\" font-size=\"14.00\">data &#45;6.0000</text>\n",
       "</g>\n",
       "<!-- 2388098008752&#45;&gt;2388098013648* -->\n",
       "<g id=\"edge7\" class=\"edge\">\n",
       "<title>2388098008752&#45;&gt;2388098013648*</title>\n",
       "<path fill=\"none\" stroke=\"black\" d=\"M569.81,-30.58C579.14,-32.77 588.69,-35 597.46,-37.06\"/>\n",
       "<polygon fill=\"black\" stroke=\"black\" points=\"596.45,-40.41 606.98,-39.29 598.05,-33.6 596.45,-40.41\"/>\n",
       "</g>\n",
       "<!-- 2388062523792 -->\n",
       "<g id=\"node6\" class=\"node\">\n",
       "<title>2388062523792</title>\n",
       "<polygon fill=\"none\" stroke=\"black\" points=\"228.5,-28.5 228.5,-64.5 337,-64.5 337,-28.5 228.5,-28.5\"/>\n",
       "<text text-anchor=\"middle\" x=\"239.5\" y=\"-41.7\" font-family=\"Times New Roman,serif\" font-size=\"14.00\">c</text>\n",
       "<polyline fill=\"none\" stroke=\"black\" points=\"250.5,-29 250.5,-64.5\"/>\n",
       "<text text-anchor=\"middle\" x=\"293.75\" y=\"-41.7\" font-family=\"Times New Roman,serif\" font-size=\"14.00\">data 12.0000</text>\n",
       "</g>\n",
       "<!-- 2388062523792&#45;&gt;2388098021520+ -->\n",
       "<g id=\"edge8\" class=\"edge\">\n",
       "<title>2388062523792&#45;&gt;2388098021520+</title>\n",
       "<path fill=\"none\" stroke=\"black\" d=\"M337.33,-59.05C346.04,-61.09 354.87,-63.16 363.03,-65.07\"/>\n",
       "<polygon fill=\"black\" stroke=\"black\" points=\"362.02,-68.43 372.55,-67.3 363.61,-61.61 362.02,-68.43\"/>\n",
       "</g>\n",
       "<!-- 2388062523792*&#45;&gt;2388062523792 -->\n",
       "<g id=\"edge2\" class=\"edge\">\n",
       "<title>2388062523792*&#45;&gt;2388062523792</title>\n",
       "<path fill=\"none\" stroke=\"black\" d=\"M192.94,-46.5C200.16,-46.5 208.31,-46.5 216.68,-46.5\"/>\n",
       "<polygon fill=\"black\" stroke=\"black\" points=\"216.64,-50 226.64,-46.5 216.64,-43 216.64,-50\"/>\n",
       "</g>\n",
       "<!-- 2388062527920 -->\n",
       "<g id=\"node8\" class=\"node\">\n",
       "<title>2388062527920</title>\n",
       "<polygon fill=\"none\" stroke=\"black\" points=\"0,-1.5 0,-37.5 102.5,-37.5 102.5,-1.5 0,-1.5\"/>\n",
       "<text text-anchor=\"middle\" x=\"11.38\" y=\"-14.7\" font-family=\"Times New Roman,serif\" font-size=\"14.00\">b</text>\n",
       "<polyline fill=\"none\" stroke=\"black\" points=\"22.75,-2 22.75,-37.5\"/>\n",
       "<text text-anchor=\"middle\" x=\"62.62\" y=\"-14.7\" font-family=\"Times New Roman,serif\" font-size=\"14.00\">data 4.0000</text>\n",
       "</g>\n",
       "<!-- 2388062527920&#45;&gt;2388062523792* -->\n",
       "<g id=\"edge5\" class=\"edge\">\n",
       "<title>2388062527920&#45;&gt;2388062523792*</title>\n",
       "<path fill=\"none\" stroke=\"black\" d=\"M102.79,-31.66C111.49,-33.75 120.38,-35.89 128.59,-37.86\"/>\n",
       "<polygon fill=\"black\" stroke=\"black\" points=\"127.66,-41.24 138.2,-40.17 129.3,-34.43 127.66,-41.24\"/>\n",
       "</g>\n",
       "<!-- 2388098013648 -->\n",
       "<g id=\"node9\" class=\"node\">\n",
       "<title>2388098013648</title>\n",
       "<polygon fill=\"none\" stroke=\"black\" points=\"697.5,-27.5 697.5,-63.5 819.5,-63.5 819.5,-27.5 697.5,-27.5\"/>\n",
       "<text text-anchor=\"middle\" x=\"709.62\" y=\"-40.7\" font-family=\"Times New Roman,serif\" font-size=\"14.00\">L</text>\n",
       "<polyline fill=\"none\" stroke=\"black\" points=\"721.75,-28 721.75,-63.5\"/>\n",
       "<text text-anchor=\"middle\" x=\"770.62\" y=\"-40.7\" font-family=\"Times New Roman,serif\" font-size=\"14.00\">data &#45;102.0000</text>\n",
       "</g>\n",
       "<!-- 2388098013648*&#45;&gt;2388098013648 -->\n",
       "<g id=\"edge3\" class=\"edge\">\n",
       "<title>2388098013648*&#45;&gt;2388098013648</title>\n",
       "<path fill=\"none\" stroke=\"black\" d=\"M661.97,-45.5C669.1,-45.5 677.17,-45.5 685.53,-45.5\"/>\n",
       "<polygon fill=\"black\" stroke=\"black\" points=\"685.52,-49 695.52,-45.5 685.52,-42 685.52,-49\"/>\n",
       "</g>\n",
       "</g>\n",
       "</svg>\n"
      ],
      "text/plain": [
       "<graphviz.graphs.Digraph at 0x22c039e4170>"
      ]
     },
     "execution_count": 53,
     "metadata": {},
     "output_type": "execute_result"
    }
   ],
   "source": [
    "draw_dot(L)"
   ]
  }
 ],
 "metadata": {
  "kernelspec": {
   "display_name": "venv",
   "language": "python",
   "name": "python3"
  },
  "language_info": {
   "codemirror_mode": {
    "name": "ipython",
    "version": 3
   },
   "file_extension": ".py",
   "mimetype": "text/x-python",
   "name": "python",
   "nbconvert_exporter": "python",
   "pygments_lexer": "ipython3",
   "version": "3.12.4"
  }
 },
 "nbformat": 4,
 "nbformat_minor": 2
}
